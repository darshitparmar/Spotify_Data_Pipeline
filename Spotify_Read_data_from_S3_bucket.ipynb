{
 "cells": [
  {
   "cell_type": "markdown",
   "metadata": {},
   "source": [
    "## List all files in bucket"
   ]
  },
  {
   "cell_type": "code",
   "execution_count": 25,
   "metadata": {},
   "outputs": [],
   "source": [
    "import boto3\n",
    "import yaml\n",
    "\n",
    "def get_files_in_bucket(bucket_name=\"<bucket_name>\"):\n",
    "    file_keys_in_bucket = []\n",
    "\n",
    "    # Get Access Token\n",
    "    with open(\"config.yml\") as f:\n",
    "        config = yaml.safe_load(f)\n",
    "        client_id = config[\"aws_access_key_id\"]\n",
    "        client_secret = config[\"aws_secret_access_key\"]\n",
    "\n",
    "    # Create a boto3 session with your credentials\n",
    "    session = boto3.Session(\n",
    "        aws_access_key_id = client_id,\n",
    "        aws_secret_access_key = client_secret,\n",
    "        region_name='us-east-1'\n",
    "    )\n",
    "\n",
    "    s3_client = session.client('s3')\n",
    "    # Iterate through objects in the bucket\n",
    "    paginator = s3_client.get_paginator('list_objects_v2')\n",
    "    for page in paginator.paginate(Bucket=bucket_name):\n",
    "      for obj in page.get('Contents', []):\n",
    "        file_keys_in_bucket.append(obj['Key'])\n",
    "\n",
    "    return file_keys_in_bucket"
   ]
  },
  {
   "cell_type": "markdown",
   "metadata": {},
   "source": [
    "### Pick today's file"
   ]
  },
  {
   "cell_type": "code",
   "execution_count": 26,
   "metadata": {},
   "outputs": [],
   "source": [
    "from datetime import date\n",
    "today = date.today().strftime(\"%Y-%m-%d\")\n",
    "\n",
    "new_release_file =''\n",
    "\n",
    "file_keys = get_files_in_bucket()\n",
    "\n",
    "for file in file_keys:\n",
    "\n",
    "    if file[-14:-4] == today:\n",
    "         new_release_file = file\n",
    "\n",
    "    else: pass"
   ]
  },
  {
   "cell_type": "markdown",
   "metadata": {},
   "source": [
    "### Create Dataframes"
   ]
  },
  {
   "cell_type": "code",
   "execution_count": 29,
   "metadata": {},
   "outputs": [],
   "source": [
    "from pyspark.sql import SparkSession\n",
    "import yaml\n",
    "\n",
    "def read_csv_file_into_df(s3_bucket = '<bucket_name>'):\n",
    "\n",
    "    # Get Access Token\n",
    "    with open(\"config.yml\") as f:\n",
    "        config = yaml.safe_load(f)\n",
    "        aws_access_key_id = config[\"aws_access_key_id\"]\n",
    "        aws_secret_access_key = config[\"aws_secret_access_key\"]\n",
    "\n",
    "    # Create a Spark session\n",
    "    spark = SparkSession.builder \\\n",
    "        .appName('ReadCSVFromS3') \\\n",
    "        .config('spark.hadoop.fs.s3a.access.key', aws_access_key_id) \\\n",
    "        .config('spark.hadoop.fs.s3a.secret.key', aws_secret_access_key) \\\n",
    "        .config('spark.hadoop.fs.s3a.impl', 'org.apache.hadoop.fs.s3a.S3AFileSystem') \\\n",
    "        .config('spark.hadoop.fs.s3a.endpoint', 's3.amazonaws.com') \\\n",
    "        .getOrCreate()\n",
    "    \n",
    "\n",
    "    new_release_s3_file_path = new_release_file\n",
    "    new_release_s3_url = f's3a://{s3_bucket}/{new_release_s3_file_path}'\n",
    "\n",
    "    # Read CSV file into DataFrame\n",
    "    new_release_album_df = spark.read.csv(new_release_s3_url, header=True, inferSchema=True)\n",
    "\n",
    "\n",
    "    return new_release_album_df\n",
    "\n"
   ]
  },
  {
   "cell_type": "code",
   "execution_count": 30,
   "metadata": {},
   "outputs": [],
   "source": [
    "new_release_album_df = read_csv_file_into_df()"
   ]
  },
  {
   "cell_type": "code",
   "execution_count": 31,
   "metadata": {},
   "outputs": [],
   "source": [
    "# Strip white spaces for all string columns\n",
    "string_columns = [field.name for field in new_release_album_df.schema.fields if field.dataType == 'StringType']\n",
    "for column in string_columns:\n",
    "    df = df.withColumn(column, trim(col(column)))"
   ]
  },
  {
   "cell_type": "code",
   "execution_count": 8,
   "metadata": {},
   "outputs": [],
   "source": [
    "df = new_release_album_df[['album_id', 'album_name', 'album_type', 'album_url', 'album_release_date', 'artist_id', 'artist_name','artist_url', 'track_id', 'track_url', 'track_number','track_duration', 'track_name',  'track_explicit', 'pull_date', 'artist_type']]"
   ]
  },
  {
   "cell_type": "code",
   "execution_count": 9,
   "metadata": {},
   "outputs": [],
   "source": [
    "df = df.withColumnRenamed('track_explicit','track_explicit_flag')"
   ]
  },
  {
   "cell_type": "code",
   "execution_count": 10,
   "metadata": {},
   "outputs": [
    {
     "name": "stdout",
     "output_type": "stream",
     "text": [
      "+--------------------+--------------------+-----------+--------------------+------------------+--------------------+----------------+--------------------+--------------------+--------------------+------------+--------------+--------------------+-------------------+----------+-----------+\n",
      "|            album_id|          album_name| album_type|           album_url|album_release_date|           artist_id|     artist_name|          artist_url|            track_id|           track_url|track_number|track_duration|          track_name|track_explicit_flag| pull_date|artist_type|\n",
      "+--------------------+--------------------+-----------+--------------------+------------------+--------------------+----------------+--------------------+--------------------+--------------------+------------+--------------+--------------------+-------------------+----------+-----------+\n",
      "|4ZfTvGloipTYCjdwd...|Live on Mountain ...|compilation|https://open.spot...|        2024-04-19|2QoU3awHVdcHS8LrZ...|           Wilco|https://open.spot...|0Hg5AbcTABqoNrIqY...|https://open.spot...|           1|        273547| Space Oddity - Live|              false|2024-07-01|     artist|\n",
      "|4ZfTvGloipTYCjdwd...|Live on Mountain ...|compilation|https://open.spot...|        2024-04-19|675tsBPpaZtqyiBwE...|      Watchhouse|https://open.spot...|7kEqQzT6O3EBncQKI...|https://open.spot...|           2|        225933|   The Wolves - Live|              false|2024-07-01|     artist|\n",
      "|4ZfTvGloipTYCjdwd...|Live on Mountain ...|compilation|https://open.spot...|        2024-04-19|4LX0KCPnH7gvxEbVX...|    Molly Tuttle|https://open.spot...|2JqL3oEsSoa7qegKL...|https://open.spot...|           3|        247493|You Didn't Call M...|              false|2024-07-01|     artist|\n",
      "|4ZfTvGloipTYCjdwd...|Live on Mountain ...|compilation|https://open.spot...|        2024-04-19|13ZEDW6vyBF12HYcZ...|  Tyler Childers|https://open.spot...|0J5txMlOLQWYQBNYm...|https://open.spot...|           4|        242400|   Going Home - Live|              false|2024-07-01|     artist|\n",
      "|4ZfTvGloipTYCjdwd...|Live on Mountain ...|compilation|https://open.spot...|        2024-04-19|60ht0hWRy1yjUDfNs...|Lucinda Williams|https://open.spot...|5lsRZdHUnGH7adrvR...|https://open.spot...|           5|        296066|          Joy - Live|              false|2024-07-01|     artist|\n",
      "|4ZfTvGloipTYCjdwd...|Live on Mountain ...|compilation|https://open.spot...|        2024-04-19|2IvkS5MXK0vPGnwyJ...|     Eric Church|https://open.spot...|1c8ileWdGQyf8Q0AX...|https://open.spot...|           6|        239906|Sinners Like Me -...|              false|2024-07-01|     artist|\n",
      "|4ZfTvGloipTYCjdwd...|Live on Mountain ...|compilation|https://open.spot...|        2024-04-19|09yvLritEUxHrzx5T...|     Margo Price|https://open.spot...|1kFzQ8tvGiUeMBHXh...|https://open.spot...|           7|        250680|Hurtin' (On The B...|              false|2024-07-01|     artist|\n",
      "|4ZfTvGloipTYCjdwd...|Live on Mountain ...|compilation|https://open.spot...|        2024-04-19|2H5elA2mJKrHmqkN9...|   Gillian Welch|https://open.spot...|2aWCrbmQ57SmTt4Ry...|https://open.spot...|           8|        265814|One More Dollar -...|              false|2024-07-01|     artist|\n",
      "|4ZfTvGloipTYCjdwd...|Live on Mountain ...|compilation|https://open.spot...|        2024-04-19|01XgbvLicKQELx7Nq...|  David Rawlings|https://open.spot...|2aWCrbmQ57SmTt4Ry...|https://open.spot...|           8|        265814|One More Dollar -...|              false|2024-07-01|     artist|\n",
      "|4ZfTvGloipTYCjdwd...|Live on Mountain ...|compilation|https://open.spot...|        2024-04-19|2nyv8yYjMSkvUr9Ow...|Birds of Chicago|https://open.spot...|4EmTdE9iyE0yLFSvm...|https://open.spot...|           9|        333715|     Lodestar - Live|              false|2024-07-01|     artist|\n",
      "|4ZfTvGloipTYCjdwd...|Live on Mountain ...|compilation|https://open.spot...|        2024-04-19|7ndzHjxbErIwvwnEU...|    Kathy Mattea|https://open.spot...|0HMAIcXYZkriB52HJ...|https://open.spot...|          10|        195306|Red-Winged Blackb...|              false|2024-07-01|     artist|\n",
      "|4ZfTvGloipTYCjdwd...|Live on Mountain ...|compilation|https://open.spot...|        2024-04-19|4wM29TDTr3HI0qFY3...|    Indigo Girls|https://open.spot...|3uoH5ITiBpXEq6NZ5...|https://open.spot...|          11|        254306|Closer to Fine - ...|              false|2024-07-01|     artist|\n",
      "|4ZfTvGloipTYCjdwd...|Live on Mountain ...|compilation|https://open.spot...|        2024-04-19|0nJUwPwC9Ti4vvuJ0...|      John Prine|https://open.spot...|57q7HWKQtLiQSdgBb...|https://open.spot...|          12|        225453|    Souvenirs - Live|              false|2024-07-01|     artist|\n",
      "|4ZfTvGloipTYCjdwd...|Live on Mountain ...|compilation|https://open.spot...|        2024-04-19|2UBTfUoLI07iRqGeU...|     Steve Earle|https://open.spot...|1jinQrKNw1FkYdsoM...|https://open.spot...|          13|        150990|You Know the Rest...|              false|2024-07-01|     artist|\n",
      "|4ZfTvGloipTYCjdwd...|Live on Mountain ...|compilation|https://open.spot...|        2024-04-19|2ka8z2lwkcp13fG8W...|      Béla Fleck|https://open.spot...|6BAVXeMepMoNagUvv...|https://open.spot...|          14|        206865|What'cha Gonna Do...|              false|2024-07-01|     artist|\n",
      "|4ZfTvGloipTYCjdwd...|Live on Mountain ...|compilation|https://open.spot...|        2024-04-19|40CfCtMnEXvvCKk8J...|Abigail Washburn|https://open.spot...|6BAVXeMepMoNagUvv...|https://open.spot...|          14|        206865|What'cha Gonna Do...|              false|2024-07-01|     artist|\n",
      "|4ZfTvGloipTYCjdwd...|Live on Mountain ...|compilation|https://open.spot...|        2024-04-19|3oVcF3VdpMuvMvLLy...|  Sierra Ferrell|https://open.spot...|2KXQfWOEW2esQ3Geu...|https://open.spot...|          15|        206146|I'd Do It Again -...|              false|2024-07-01|     artist|\n",
      "|4ZfTvGloipTYCjdwd...|Live on Mountain ...|compilation|https://open.spot...|        2024-04-19|2nJQCVut36kUzDfy3...|     Tim O'Brien|https://open.spot...|65hbVw97XKpIapxFF...|https://open.spot...|          16|        215880| Cup of Sugar - Live|              false|2024-07-01|     artist|\n",
      "|4ZfTvGloipTYCjdwd...|Live on Mountain ...|compilation|https://open.spot...|        2024-04-19|1EI0NtLHoh9KBziYC...|Rhiannon Giddens|https://open.spot...|1dtUD4pcY0zLVpxqO...|https://open.spot...|          17|        323059|Black Is the Colo...|              false|2024-07-01|     artist|\n",
      "|4ZfTvGloipTYCjdwd...|Live on Mountain ...|compilation|https://open.spot...|        2024-04-19|5J6L7N6B4nI1M5cwa...|   Alison Krauss|https://open.spot...|4YhC4gt14C0pCtQum...|https://open.spot...|          18|        207199|Let Me Touch You ...|              false|2024-07-01|     artist|\n",
      "+--------------------+--------------------+-----------+--------------------+------------------+--------------------+----------------+--------------------+--------------------+--------------------+------------+--------------+--------------------+-------------------+----------+-----------+\n",
      "only showing top 20 rows\n",
      "\n"
     ]
    }
   ],
   "source": [
    "df.show(10)"
   ]
  },
  {
   "cell_type": "code",
   "execution_count": 24,
   "metadata": {},
   "outputs": [
    {
     "name": "stdout",
     "output_type": "stream",
     "text": [
      "Data written to PostgreSQL successfully!\n"
     ]
    }
   ],
   "source": [
    "from pyspark.sql import SparkSession\n",
    "\n",
    "# Create a Spark session\n",
    "spark = SparkSession.builder \\\n",
    "    .appName('WriteToPostgres') \\\n",
    "    .config('spark.jars', r'C:\\Spark\\spark-3.4.3-bin-hadoop3\\postgresql-42.7.3.jar') \\\n",
    "    .getOrCreate()\n",
    "\n",
    "\n",
    "# PostgreSQL connection properties\n",
    "rds_endpoint = \"<rds_instance>.us-east-1.rds.amazonaws.com\"\n",
    "rds_port = config[\"rds_port\"]\n",
    "rds_db_name = config[\"rds_db_name\"]\n",
    "rds_user = config[\"rds_user_name\"]\n",
    "rds_password = config[\"rds_password\"]\n",
    "table_name = config[\"rds_table_name\"]\n",
    "\n",
    "# JDBC URL for PostgreSQL\n",
    "jdbc_url = f\"jdbc:postgresql://{rds_endpoint}:{rds_port}/{rds_db_name}\"\n",
    "\n",
    "# Connection properties\n",
    "connection_properties = {\n",
    "    \"user\": rds_user,\n",
    "    \"password\": rds_password,\n",
    "    \"driver\": \"org.postgresql.Driver\"\n",
    "}\n",
    "\n",
    "# Write DataFrame to PostgreSQL table\n",
    "df.write.jdbc(url=jdbc_url, table=table_name, mode='append', properties=connection_properties)\n",
    "\n",
    "print(\"Data written to PostgreSQL successfully!\")\n"
   ]
  },
  {
   "cell_type": "code",
   "execution_count": null,
   "metadata": {},
   "outputs": [],
   "source": []
  }
 ],
 "metadata": {
  "kernelspec": {
   "display_name": "Python 3",
   "language": "python",
   "name": "python3"
  },
  "language_info": {
   "codemirror_mode": {
    "name": "ipython",
    "version": 3
   },
   "file_extension": ".py",
   "mimetype": "text/x-python",
   "name": "python",
   "nbconvert_exporter": "python",
   "pygments_lexer": "ipython3",
   "version": "3.12.4"
  }
 },
 "nbformat": 4,
 "nbformat_minor": 2
}
